{
 "cells": [
  {
   "cell_type": "code",
   "execution_count": null,
   "id": "3e48143a-9ffa-4142-87c1-066df755fac3",
   "metadata": {},
   "outputs": [],
   "source": [
    "import pytest\n",
    "from keithley2600 import Keithley2600, ResultTable\n",
    "\n",
    "k = Keithley2600('TCPIP2::169.254.0.1::INSTR')\n",
    "r1=1500\n",
    "def voltage_measure(y):\n",
    "    k.apply_voltage(k.smub, y)\n",
    "    x = k.measure_current(k.smua) * r1\n",
    "    return x #k.measure_voltage(k.smua, input)\n",
    "    \n",
    "def test_voltage_measure():\n",
    "    assert voltage_measure(10) == apporx(10)\n"
   ]
  },
  {
   "cell_type": "code",
   "execution_count": null,
   "id": "40dc1b8c-7acc-483a-b19d-86c67d79b96b",
   "metadata": {},
   "outputs": [],
   "source": []
  }
 ],
 "metadata": {
  "kernelspec": {
   "display_name": "",
   "name": ""
  },
  "language_info": {
   "name": ""
  }
 },
 "nbformat": 4,
 "nbformat_minor": 5
}
